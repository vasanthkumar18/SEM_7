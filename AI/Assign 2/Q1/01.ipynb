{
  "nbformat": 4,
  "nbformat_minor": 0,
  "metadata": {
    "colab": {
      "name": "ML Assign 1.ipynb",
      "provenance": [],
      "collapsed_sections": []
    },
    "kernelspec": {
      "name": "python3",
      "display_name": "Python 3"
    },
    "language_info": {
      "name": "python"
    },
    "accelerator": "GPU"
  },
  "cells": [
    {
      "cell_type": "code",
      "metadata": {
        "id": "PbrtsqKDNVbA"
      },
      "source": [
        "## Import Modules \n",
        "import torch\n",
        "import torchvision\n",
        "from torch import nn, optim\n",
        "import torch.nn.functional as F\n",
        "from torchsummary import summary"
      ],
      "execution_count": 11,
      "outputs": []
    },
    {
      "cell_type": "code",
      "metadata": {
        "id": "DwLwecBZNsyf"
      },
      "source": [
        "## Model Configuration (Initialize hyperparameters)\n",
        "batch_size = 64\n",
        "learning_rate = 0.01\n",
        "cross_entropy = nn.CrossEntropyLoss()"
      ],
      "execution_count": 12,
      "outputs": []
    },
    {
      "cell_type": "code",
      "metadata": {
        "id": "vDRmYyWUtV-n"
      },
      "source": [
        "## DataLoader (Load the training set and validation set using Dataset and DataLoader)\n",
        "transform = torchvision.transforms.ToTensor()\n",
        "train_data = torch.utils.data.DataLoader(\n",
        "    torchvision.datasets.MNIST(\n",
        "    'mnist_data', train=True, download=True, transform=transform\n",
        "    ), batch_size=batch_size\n",
        ")\n",
        "val_data = torch.utils.data.DataLoader(\n",
        "    torchvision.datasets.MNIST(\n",
        "    'mnist_data', train=False, download=True, transform=transform\n",
        "    ), batch_size=batch_size\n",
        ")"
      ],
      "execution_count": 13,
      "outputs": []
    },
    {
      "cell_type": "code",
      "metadata": {
        "id": "Ea9v0rBFtWAj"
      },
      "source": [
        "# Validation function (To check whether the model is learning properly we can use a validation set)\n",
        "def validate(model, data):\n",
        "    total = 0\n",
        "    correct = 0\n",
        "    for i, (images, labels) in enumerate(data):\n",
        "        images = images.cuda()\n",
        "        labels = labels.cuda()\n",
        "        y_pred = model(images)\n",
        "        value, pred = torch.max(y_pred, 1)\n",
        "        total += y_pred.size(0)\n",
        "        correct += torch.sum(pred == labels)\n",
        "    return correct * 100 / total"
      ],
      "execution_count": 14,
      "outputs": []
    },
    {
      "cell_type": "code",
      "metadata": {
        "id": "2Uc9ybejtWCY"
      },
      "source": [
        "## Training Function (Training the model)\n",
        "def train(model,epochs=5) :\n",
        "    optimizer = optim.Adam(model.parameters(),lr=learning_rate)    \n",
        "    for n in range(epochs)  :\n",
        "        for i , (images , labels) in enumerate(train_data) :\n",
        "            images = images.cuda()\n",
        "            labels = labels.cuda()\n",
        "            optimizer.zero_grad()\n",
        "            prediction = model(images)\n",
        "            loss = cross_entropy(prediction, labels)\n",
        "            loss.backward()\n",
        "            optimizer.step()\n",
        "        accuracy = float(validate(model, val_data))\n",
        "        print(\"Epoch:\", n+1, \"Loss: \", float(loss.data), \"Accuracy:\", accuracy)"
      ],
      "execution_count": 15,
      "outputs": []
    },
    {
      "cell_type": "code",
      "metadata": {
        "id": "90WCj3fbtWEb"
      },
      "source": [
        "## Model (A sample CNN is defined here for image classification)\n",
        "class CNN(nn.Module) :\n",
        "    def __init__(self):\n",
        "        super(CNN,self).__init__()\n",
        "        self.conv_1 = nn.Conv2d(in_channels=1,out_channels=8,kernel_size=3)\n",
        "        self.conv_2 = nn.Conv2d(in_channels=8,out_channels=16,kernel_size=3)\n",
        "        self.dense_1 = nn.Linear(in_features=9216,out_features=2048)\n",
        "        self.dense_2 = nn.Linear(in_features=2048,out_features=10)\n",
        "\n",
        "        self.tanh = nn.Tanh()\n",
        "    def forward(self,x) :\n",
        "        x = self.tanh(self.conv_1(x))\n",
        "        x = self.tanh(self.conv_2(x))\n",
        "        x = x.view(x.shape[0],-1)\n",
        "        x = self.tanh(self.dense_1(x))\n",
        "        x = self.dense_2(x)\n",
        "        # output = self.tanh(x)\n",
        "        output = F.log_softmax(x, dim=1)\n",
        "\n",
        "        return output"
      ],
      "execution_count": 16,
      "outputs": []
    },
    {
      "cell_type": "code",
      "metadata": {
        "id": "fYRgTkK2tWGi"
      },
      "source": [
        "# Model (Initialize the neural network)\n",
        "model = CNN().cuda()"
      ],
      "execution_count": 17,
      "outputs": []
    },
    {
      "cell_type": "code",
      "metadata": {
        "colab": {
          "base_uri": "https://localhost:8080/"
        },
        "id": "z6jbvgbAtWJP",
        "outputId": "df78e2a7-c1e5-4ad5-9f33-694ef52c51fe"
      },
      "source": [
        "# Summary\n",
        "summary(model, (1, 28, 28))"
      ],
      "execution_count": 18,
      "outputs": [
        {
          "output_type": "stream",
          "name": "stdout",
          "text": [
            "----------------------------------------------------------------\n",
            "        Layer (type)               Output Shape         Param #\n",
            "================================================================\n",
            "            Conv2d-1            [-1, 8, 26, 26]              80\n",
            "              Tanh-2            [-1, 8, 26, 26]               0\n",
            "            Conv2d-3           [-1, 16, 24, 24]           1,168\n",
            "              Tanh-4           [-1, 16, 24, 24]               0\n",
            "            Linear-5                 [-1, 2048]      18,876,416\n",
            "              Tanh-6                 [-1, 2048]               0\n",
            "            Linear-7                   [-1, 10]          20,490\n",
            "================================================================\n",
            "Total params: 18,898,154\n",
            "Trainable params: 18,898,154\n",
            "Non-trainable params: 0\n",
            "----------------------------------------------------------------\n",
            "Input size (MB): 0.00\n",
            "Forward/backward pass size (MB): 0.25\n",
            "Params size (MB): 72.09\n",
            "Estimated Total Size (MB): 72.35\n",
            "----------------------------------------------------------------\n"
          ]
        }
      ]
    },
    {
      "cell_type": "code",
      "metadata": {
        "id": "k1lgF6e7uJFg",
        "colab": {
          "base_uri": "https://localhost:8080/"
        },
        "outputId": "ae10fcf3-23e7-4f1a-c65c-ee77ad9be649"
      },
      "source": [
        "# Train for 30 Epochs\n",
        "train(model,epochs=30)"
      ],
      "execution_count": 19,
      "outputs": [
        {
          "output_type": "stream",
          "name": "stdout",
          "text": [
            "Epoch: 1 Loss:  0.5748899579048157 Accuracy: 75.75\n",
            "Epoch: 2 Loss:  0.36637410521507263 Accuracy: 84.66999816894531\n",
            "Epoch: 3 Loss:  0.08912859857082367 Accuracy: 90.72999572753906\n",
            "Epoch: 4 Loss:  0.9771987199783325 Accuracy: 78.33000183105469\n",
            "Epoch: 5 Loss:  0.2745267450809479 Accuracy: 81.8499984741211\n",
            "Epoch: 6 Loss:  1.6649562120437622 Accuracy: 88.80999755859375\n",
            "Epoch: 7 Loss:  0.5732375979423523 Accuracy: 86.0\n",
            "Epoch: 8 Loss:  0.03406352922320366 Accuracy: 86.13999938964844\n",
            "Epoch: 9 Loss:  0.17515763640403748 Accuracy: 88.6199951171875\n",
            "Epoch: 10 Loss:  0.00011473985796328634 Accuracy: 84.79999542236328\n",
            "Epoch: 11 Loss:  0.3487076759338379 Accuracy: 83.45999908447266\n",
            "Epoch: 12 Loss:  1.0199308395385742 Accuracy: 83.91999816894531\n",
            "Epoch: 13 Loss:  0.008138145320117474 Accuracy: 89.5999984741211\n",
            "Epoch: 14 Loss:  0.8222111463546753 Accuracy: 92.43000030517578\n",
            "Epoch: 15 Loss:  1.0973507165908813 Accuracy: 84.0999984741211\n",
            "Epoch: 16 Loss:  2.3473243713378906 Accuracy: 88.06999969482422\n",
            "Epoch: 17 Loss:  1.6949650049209595 Accuracy: 90.40999603271484\n",
            "Epoch: 18 Loss:  0.28844547271728516 Accuracy: 89.47999572753906\n",
            "Epoch: 19 Loss:  0.14959336817264557 Accuracy: 86.54999542236328\n",
            "Epoch: 20 Loss:  0.45235440135002136 Accuracy: 89.05999755859375\n",
            "Epoch: 21 Loss:  0.04384990781545639 Accuracy: 93.33999633789062\n",
            "Epoch: 22 Loss:  8.40267093735747e-05 Accuracy: 92.32999420166016\n",
            "Epoch: 23 Loss:  0.788499653339386 Accuracy: 71.12999725341797\n",
            "Epoch: 24 Loss:  0.6812471151351929 Accuracy: 82.04000091552734\n",
            "Epoch: 25 Loss:  0.8447064161300659 Accuracy: 87.33999633789062\n",
            "Epoch: 26 Loss:  0.8702994585037231 Accuracy: 89.02999877929688\n",
            "Epoch: 27 Loss:  0.21656163036823273 Accuracy: 90.82999420166016\n",
            "Epoch: 28 Loss:  0.8378544449806213 Accuracy: 91.29999542236328\n",
            "Epoch: 29 Loss:  0.8050745725631714 Accuracy: 88.5\n",
            "Epoch: 30 Loss:  0.8206747174263 Accuracy: 91.75999450683594\n"
          ]
        }
      ]
    },
    {
      "cell_type": "markdown",
      "metadata": {
        "id": "ZUS-wn-vDamN"
      },
      "source": [
        "**Here, The model is reducing the loss function with varying validation accuracies.**"
      ]
    },
    {
      "cell_type": "code",
      "metadata": {
        "id": "ZvYvNqVmuJII"
      },
      "source": [
        ""
      ],
      "execution_count": null,
      "outputs": []
    }
  ]
}